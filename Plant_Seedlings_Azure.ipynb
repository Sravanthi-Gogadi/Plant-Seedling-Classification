{
  "nbformat": 4,
  "nbformat_minor": 0,
  "metadata": {
    "colab": {
      "name": "Plant_Seedlings_Azure.ipynb",
      "version": "0.3.2",
      "views": {},
      "default_view": {},
      "provenance": [],
      "collapsed_sections": []
    },
    "kernelspec": {
      "display_name": "Python 3",
      "language": "python",
      "name": "python3"
    },
    "accelerator": "GPU"
  },
  "cells": [
    {
      "metadata": {
        "id": "iw_B8BNJePBp",
        "colab_type": "code",
        "colab": {
          "autoexec": {
            "startup": false,
            "wait_interval": 0
          }
        }
      },
      "cell_type": "code",
      "source": [
        "!kaggle competitions download -c plant-seedlings-classification"
      ],
      "execution_count": 0,
      "outputs": []
    },
    {
      "metadata": {
        "id": "pWP3pqWYff99",
        "colab_type": "code",
        "colab": {
          "autoexec": {
            "startup": false,
            "wait_interval": 0
          }
        }
      },
      "cell_type": "code",
      "source": [
        "ls"
      ],
      "execution_count": 0,
      "outputs": []
    },
    {
      "metadata": {
        "id": "WN3eJ7fJf4tz",
        "colab_type": "code",
        "colab": {
          "autoexec": {
            "startup": false,
            "wait_interval": 0
          }
        }
      },
      "cell_type": "code",
      "source": [
        "ls .kaggle/competitions/plant-seedlings-classification/"
      ],
      "execution_count": 0,
      "outputs": []
    },
    {
      "metadata": {
        "id": "ZX8N9lcBgGwh",
        "colab_type": "code",
        "colab": {
          "autoexec": {
            "startup": false,
            "wait_interval": 0
          }
        }
      },
      "cell_type": "code",
      "source": [
        "!mkdir plant_seedlings"
      ],
      "execution_count": 0,
      "outputs": []
    },
    {
      "metadata": {
        "id": "wRB0my8OgSWH",
        "colab_type": "code",
        "colab": {
          "autoexec": {
            "startup": false,
            "wait_interval": 0
          }
        }
      },
      "cell_type": "code",
      "source": [
        "!cp .kaggle/competitions/plant-seedlings-classification/* plant_seedlings/"
      ],
      "execution_count": 0,
      "outputs": []
    },
    {
      "metadata": {
        "id": "kKo5vVMHgX4r",
        "colab_type": "code",
        "colab": {
          "autoexec": {
            "startup": false,
            "wait_interval": 0
          }
        }
      },
      "cell_type": "code",
      "source": [
        "cd plant_seedlings/"
      ],
      "execution_count": 0,
      "outputs": []
    },
    {
      "metadata": {
        "id": "jJnUxNI-gctp",
        "colab_type": "code",
        "colab": {
          "autoexec": {
            "startup": false,
            "wait_interval": 0
          },
          "base_uri": "https://localhost:8080/",
          "height": 34
        },
        "outputId": "c9d180ad-ea07-4203-c9ac-a928c8b5f927",
        "executionInfo": {
          "elapsed": 1351,
          "status": "ok",
          "timestamp": 1528084920542,
          "user": {
            "displayName": "sandeep gogadi",
            "photoUrl": "//lh5.googleusercontent.com/-yDUR7JNfkMw/AAAAAAAAAAI/AAAAAAAAB4g/-9hmp75Q72o/s50-c-k-no/photo.jpg",
            "userId": "118241933473178412715"
          },
          "user_tz": 420
        }
      },
      "cell_type": "code",
      "source": [
        "ls"
      ],
      "execution_count": 0,
      "outputs": [
        {
          "output_type": "stream",
          "text": [
            "sample_submission.csv      \u001b[0m\u001b[01;31mtest.zip\u001b[0m  training.log\r\n",
            "\u001b[01;31msample_submission.csv.zip\u001b[0m  \u001b[01;34mtrain\u001b[0m/    \u001b[01;31mtrain.zip\u001b[0m\r\n"
          ],
          "name": "stdout"
        }
      ]
    },
    {
      "metadata": {
        "id": "wAvSppb7gdKr",
        "colab_type": "code",
        "colab": {
          "autoexec": {
            "startup": false,
            "wait_interval": 0
          }
        }
      },
      "cell_type": "code",
      "source": [
        "!unzip train.zip\n",
        "!unzip sample_submission.csv.zip"
      ],
      "execution_count": 0,
      "outputs": []
    },
    {
      "metadata": {
        "id": "nZQlmNQCghiE",
        "colab_type": "code",
        "colab": {
          "autoexec": {
            "startup": false,
            "wait_interval": 0
          }
        }
      },
      "cell_type": "code",
      "source": [
        "ls"
      ],
      "execution_count": 0,
      "outputs": []
    },
    {
      "metadata": {
        "id": "8VD9QcPdguEc",
        "colab_type": "code",
        "colab": {
          "autoexec": {
            "startup": false,
            "wait_interval": 0
          }
        }
      },
      "cell_type": "code",
      "source": [
        "ls train/"
      ],
      "execution_count": 0,
      "outputs": []
    },
    {
      "metadata": {
        "id": "EXKpmzMdgxOY",
        "colab_type": "code",
        "colab": {
          "autoexec": {
            "startup": false,
            "wait_interval": 0
          },
          "base_uri": "https://localhost:8080/",
          "height": 71
        },
        "outputId": "1adcd44e-df8b-4d6d-b787-264f60e9c7fe",
        "executionInfo": {
          "elapsed": 468,
          "status": "ok",
          "timestamp": 1528087876854,
          "user": {
            "displayName": "sandeep gogadi",
            "photoUrl": "//lh5.googleusercontent.com/-yDUR7JNfkMw/AAAAAAAAAAI/AAAAAAAAB4g/-9hmp75Q72o/s50-c-k-no/photo.jpg",
            "userId": "118241933473178412715"
          },
          "user_tz": 420
        }
      },
      "cell_type": "code",
      "source": [
        "import os\n",
        "\n",
        "labels_list = os.listdir('./train')\n",
        "num_labels = len(labels_list)\n",
        "\n",
        "print(labels_list)\n",
        "print(num_labels)"
      ],
      "execution_count": 0,
      "outputs": [
        {
          "output_type": "stream",
          "text": [
            "['Common Chickweed', 'Cleavers', 'Maize', 'Sugar beet', 'Fat Hen', 'Loose Silky-bent', 'Charlock', 'Black-grass', 'Small-flowered Cranesbill', 'Scentless Mayweed', 'Common wheat', 'Shepherds Purse']\n",
            "12\n"
          ],
          "name": "stdout"
        }
      ]
    },
    {
      "metadata": {
        "id": "hd_LXoL3hMGL",
        "colab_type": "code",
        "colab": {
          "autoexec": {
            "startup": false,
            "wait_interval": 0
          },
          "base_uri": "https://localhost:8080/",
          "height": 600
        },
        "outputId": "81dbe0fa-315f-4a79-f50a-2379aa069f25",
        "executionInfo": {
          "elapsed": 2874,
          "status": "ok",
          "timestamp": 1528087879859,
          "user": {
            "displayName": "sandeep gogadi",
            "photoUrl": "//lh5.googleusercontent.com/-yDUR7JNfkMw/AAAAAAAAAAI/AAAAAAAAB4g/-9hmp75Q72o/s50-c-k-no/photo.jpg",
            "userId": "118241933473178412715"
          },
          "user_tz": 420
        }
      },
      "cell_type": "code",
      "source": [
        "import matplotlib.pyplot as plt\n",
        "\n",
        "plt.figure(1)\n",
        "\n",
        "for idx, label in enumerate(labels_list):\n",
        "  label_path = os.path.join('./train', label)\n",
        "  images_list = os.listdir(label_path)\n",
        "  num_images = len(images_list)\n",
        "  img_name = images_list[0]\n",
        "  img_path = os.path.join('./train', label, img_name)\n",
        "  img = plt.imread(img_path)\n",
        "  \n",
        "  plt.subplot(3,4,idx+1)\n",
        "  plt.imshow(img)\n",
        "  plt.title(label)\n",
        "  plt.axis('off')\n",
        "  \n",
        "  print('No of images in {} directory are {}'.format(label, num_images))\n",
        "\n",
        "print()\n",
        "plt.show()\n",
        "print(img.shape)"
      ],
      "execution_count": 0,
      "outputs": [
        {
          "output_type": "stream",
          "text": [
            "No of images in Common Chickweed directory are 611\n",
            "No of images in Cleavers directory are 287\n",
            "No of images in Maize directory are 221\n",
            "No of images in Sugar beet directory are 385\n",
            "No of images in Fat Hen directory are 475\n",
            "No of images in Loose Silky-bent directory are 654\n",
            "No of images in Charlock directory are 390\n",
            "No of images in Black-grass directory are 263\n",
            "No of images in Small-flowered Cranesbill directory are 496\n",
            "No of images in Scentless Mayweed directory are 516\n",
            "No of images in Common wheat directory are 221\n",
            "No of images in Shepherds Purse directory are 231\n",
            "\n"
          ],
          "name": "stdout"
        },
        {
          "output_type": "display_data",
          "data": {
            "image/png": "[encoded data removed]",
            "text/plain": [
              "<Figure size 432x288 with 12 Axes>"
            ]
          },
          "metadata": {
            "tags": []
          }
        },
        {
          "output_type": "stream",
          "text": [
            "(97, 97, 3)\n"
          ],
          "name": "stdout"
        }
      ]
    },
    {
      "metadata": {
        "id": "uic8KFTbh_H0",
        "colab_type": "code",
        "colab": {
          "autoexec": {
            "startup": false,
            "wait_interval": 0
          },
          "base_uri": "https://localhost:8080/",
          "height": 51
        },
        "outputId": "22daaba6-f8a8-4c87-ec42-172bf9763aa4",
        "executionInfo": {
          "elapsed": 327,
          "status": "ok",
          "timestamp": 1528087880246,
          "user": {
            "displayName": "sandeep gogadi",
            "photoUrl": "//lh5.googleusercontent.com/-yDUR7JNfkMw/AAAAAAAAAAI/AAAAAAAAB4g/-9hmp75Q72o/s50-c-k-no/photo.jpg",
            "userId": "118241933473178412715"
          },
          "user_tz": 420
        }
      },
      "cell_type": "code",
      "source": [
        "import glob\n",
        "\n",
        "X = []\n",
        "y = []\n",
        "\n",
        "for label in labels_list:\n",
        "  images_list = glob.glob(os.path.join('./train',label,'*.png'))\n",
        "  num_images = len(images_list)\n",
        "  X += images_list\n",
        "  y += [label]*num_images\n",
        "  \n",
        "print('X:', len(X))\n",
        "print('y:', len(y))  "
      ],
      "execution_count": 0,
      "outputs": [
        {
          "output_type": "stream",
          "text": [
            "X: 4750\n",
            "y: 4750\n"
          ],
          "name": "stdout"
        }
      ]
    },
    {
      "metadata": {
        "id": "4K2kUQf1n7o3",
        "colab_type": "code",
        "colab": {
          "autoexec": {
            "startup": false,
            "wait_interval": 0
          },
          "base_uri": "https://localhost:8080/",
          "height": 361
        },
        "outputId": "e7c76b80-ebe0-45a8-fcfa-826b49aa7650",
        "executionInfo": {
          "elapsed": 2051,
          "status": "ok",
          "timestamp": 1528087882424,
          "user": {
            "displayName": "sandeep gogadi",
            "photoUrl": "//lh5.googleusercontent.com/-yDUR7JNfkMw/AAAAAAAAAAI/AAAAAAAAB4g/-9hmp75Q72o/s50-c-k-no/photo.jpg",
            "userId": "118241933473178412715"
          },
          "user_tz": 420
        }
      },
      "cell_type": "code",
      "source": [
        "# Histogram\n",
        "\n",
        "plt.hist(y, bins=86)\n",
        "plt.xlabel('labels')\n",
        "plt.ylabel('no of images')\n",
        "plt.show()"
      ],
      "execution_count": 0,
      "outputs": [
        {
          "output_type": "display_data",
          "data": {
            "image/png": "[encoded data removed]",
            "text/plain": [
              "<Figure size 432x288 with 1 Axes>"
            ]
          },
          "metadata": {
            "tags": []
          }
        }
      ]
    },
    {
      "metadata": {
        "id": "IP8UekX7oVNq",
        "colab_type": "code",
        "colab": {
          "autoexec": {
            "startup": false,
            "wait_interval": 0
          },
          "base_uri": "https://localhost:8080/",
          "height": 68
        },
        "outputId": "7a165f6a-4a63-4a0c-fb9b-ec1131057a55",
        "executionInfo": {
          "elapsed": 475,
          "status": "ok",
          "timestamp": 1528087882926,
          "user": {
            "displayName": "sandeep gogadi",
            "photoUrl": "//lh5.googleusercontent.com/-yDUR7JNfkMw/AAAAAAAAAAI/AAAAAAAAB4g/-9hmp75Q72o/s50-c-k-no/photo.jpg",
            "userId": "118241933473178412715"
          },
          "user_tz": 420
        }
      },
      "cell_type": "code",
      "source": [
        "# Split Data\n",
        "\n",
        "from sklearn.model_selection import train_test_split\n",
        "from sklearn.utils import shuffle\n",
        "\n",
        "X, X_test, y, y_test = train_test_split(X, y, test_size=0.2, random_state=0, stratify=y)\n",
        "X_train, X_valid, y_train, y_valid = train_test_split(X, y, test_size=0.1, random_state=0, stratify=y)\n",
        "\n",
        "del X[:]\n",
        "del y[:]\n",
        "\n",
        "print('Train:', len(X_train), len(y_train))\n",
        "print('Valid:', len(X_valid), len(y_valid))\n",
        "print('Test:', len(X_test), len(y_test))"
      ],
      "execution_count": 0,
      "outputs": [
        {
          "output_type": "stream",
          "text": [
            "Train: 3420 3420\n",
            "Valid: 380 380\n",
            "Test: 950 950\n"
          ],
          "name": "stdout"
        }
      ]
    },
    {
      "metadata": {
        "id": "SJfIZp83sx3Q",
        "colab_type": "code",
        "colab": {
          "autoexec": {
            "startup": false,
            "wait_interval": 0
          },
          "base_uri": "https://localhost:8080/",
          "height": 51
        },
        "outputId": "7705b0ad-9138-4387-c544-6df183d57511",
        "executionInfo": {
          "elapsed": 1567,
          "status": "ok",
          "timestamp": 1528087884623,
          "user": {
            "displayName": "sandeep gogadi",
            "photoUrl": "//lh5.googleusercontent.com/-yDUR7JNfkMw/AAAAAAAAAAI/AAAAAAAAB4g/-9hmp75Q72o/s50-c-k-no/photo.jpg",
            "userId": "118241933473178412715"
          },
          "user_tz": 420
        }
      },
      "cell_type": "code",
      "source": [
        "ls"
      ],
      "execution_count": 0,
      "outputs": [
        {
          "output_type": "stream",
          "text": [
            "sample_submission.csv      \u001b[0m\u001b[01;31mtest.zip\u001b[0m  training.log\r\n",
            "\u001b[01;31msample_submission.csv.zip\u001b[0m  \u001b[01;34mtrain\u001b[0m/    \u001b[01;31mtrain.zip\u001b[0m\r\n"
          ],
          "name": "stdout"
        }
      ]
    },
    {
      "metadata": {
        "id": "2l3mHmHftnHj",
        "colab_type": "code",
        "colab": {
          "autoexec": {
            "startup": false,
            "wait_interval": 0
          }
        }
      },
      "cell_type": "code",
      "source": [
        "if not os.path.exists('./data'):\n",
        "  os.mkdir('./data')\n",
        "\n",
        "data_types = ['train', 'validation', 'test']\n",
        "\n",
        "for data_type in data_types:\n",
        "  data_type_path = os.path.join('./data', data_type)\n",
        "  if not os.path.exists(data_type_path):\n",
        "    os.mkdir(data_type_path)\n",
        "    for label in labels_list:\n",
        "      path = os.path.join('./data', data_type, label)\n",
        "      os.mkdir(path)"
      ],
      "execution_count": 0,
      "outputs": []
    },
    {
      "metadata": {
        "id": "QrwptNdvwQ_g",
        "colab_type": "code",
        "colab": {
          "autoexec": {
            "startup": false,
            "wait_interval": 0
          }
        }
      },
      "cell_type": "code",
      "source": [
        "from PIL import Image\n",
        "\n",
        "def write_data(X, y, name, idx):\n",
        "  print(name)\n",
        "  for i in range(len(X)):\n",
        "    img = Image.open(X[i])\n",
        "    img = img.resize((299, 299))\n",
        "    img_path = os.path.join('./data', name, y[i], str(idx) + '.png')\n",
        "    img.save(img_path)\n",
        "    idx += 1\n",
        "    if idx % 300 == 0:\n",
        "      print('{} images completed.'.format(idx))\n",
        "    \n",
        "  return idx\n",
        "    "
      ],
      "execution_count": 0,
      "outputs": []
    },
    {
      "metadata": {
        "id": "IoSWQfp7whIe",
        "colab_type": "code",
        "colab": {
          "autoexec": {
            "startup": false,
            "wait_interval": 0
          },
          "base_uri": "https://localhost:8080/",
          "height": 357
        },
        "outputId": "4153bbc9-e635-4c45-8caa-5f18f1f16f8b",
        "executionInfo": {
          "elapsed": 180760,
          "status": "ok",
          "timestamp": 1528088066249,
          "user": {
            "displayName": "sandeep gogadi",
            "photoUrl": "//lh5.googleusercontent.com/-yDUR7JNfkMw/AAAAAAAAAAI/AAAAAAAAB4g/-9hmp75Q72o/s50-c-k-no/photo.jpg",
            "userId": "118241933473178412715"
          },
          "user_tz": 420
        }
      },
      "cell_type": "code",
      "source": [
        "%%time\n",
        "\n",
        "idx = 0\n",
        "\n",
        "idx = write_data(X_train, y_train, 'train', idx)\n",
        "idx = write_data(X_valid, y_valid, 'validation', idx)\n",
        "idx = write_data(X_test, y_test, 'test', idx)\n",
        "\n"
      ],
      "execution_count": 0,
      "outputs": [
        {
          "output_type": "stream",
          "text": [
            "train\n",
            "300 images completed.\n",
            "600 images completed.\n",
            "900 images completed.\n",
            "1200 images completed.\n",
            "1500 images completed.\n",
            "1800 images completed.\n",
            "2100 images completed.\n",
            "2400 images completed.\n",
            "2700 images completed.\n",
            "3000 images completed.\n",
            "3300 images completed.\n",
            "validation\n",
            "3600 images completed.\n",
            "test\n",
            "3900 images completed.\n",
            "4200 images completed.\n",
            "4500 images completed.\n",
            "CPU times: user 2min 39s, sys: 1.73 s, total: 2min 41s\n",
            "Wall time: 2min 40s\n"
          ],
          "name": "stdout"
        }
      ]
    },
    {
      "metadata": {
        "id": "tbx-IUHNyEn_",
        "colab_type": "code",
        "colab": {
          "autoexec": {
            "startup": false,
            "wait_interval": 0
          },
          "base_uri": "https://localhost:8080/",
          "height": 68
        },
        "outputId": "b1bdc1f1-f189-420c-e7a9-8d53d461cb06",
        "executionInfo": {
          "elapsed": 341,
          "status": "ok",
          "timestamp": 1528088066629,
          "user": {
            "displayName": "sandeep gogadi",
            "photoUrl": "//lh5.googleusercontent.com/-yDUR7JNfkMw/AAAAAAAAAAI/AAAAAAAAB4g/-9hmp75Q72o/s50-c-k-no/photo.jpg",
            "userId": "118241933473178412715"
          },
          "user_tz": 420
        }
      },
      "cell_type": "code",
      "source": [
        "# Verify\n",
        "\n",
        "print('Train:', len(glob.glob('./data/train/*/*.png')))\n",
        "print('Valid:', len(glob.glob('./data/validation/*/*.png')))\n",
        "print('Test:', len(glob.glob('./data/test/*/*.png')))"
      ],
      "execution_count": 0,
      "outputs": [
        {
          "output_type": "stream",
          "text": [
            "Train: 3420\n",
            "Valid: 380\n",
            "Test: 950\n"
          ],
          "name": "stdout"
        }
      ]
    },
    {
      "metadata": {
        "id": "7fl9yPJs1p8x",
        "colab_type": "code",
        "colab": {
          "autoexec": {
            "startup": false,
            "wait_interval": 0
          }
        }
      },
      "cell_type": "code",
      "source": [
        "width, height, depth = 299, 299, 3"
      ],
      "execution_count": 0,
      "outputs": []
    },
    {
      "metadata": {
        "id": "iFw4cJYF5u7v",
        "colab_type": "code",
        "colab": {
          "autoexec": {
            "startup": false,
            "wait_interval": 0
          }
        }
      },
      "cell_type": "code",
      "source": [
        "from keras.preprocessing.image import ImageDataGenerator\n",
        "from keras.models import Sequential\n",
        "from keras.layers import Conv2D, MaxPooling2D\n",
        "from keras.layers import Activation, Dropout, Flatten, Dense\n",
        "from keras import backend as K\n",
        "from keras.applications.inception_v3 import InceptionV3\n",
        "from keras.layers import Input\n",
        "\n",
        "from keras import __version__\n",
        "from keras.applications.inception_v3 import InceptionV3, preprocess_input\n",
        "from keras.models import Model, load_model\n",
        "from keras.layers import Dense, GlobalAveragePooling2D\n",
        "from keras.preprocessing.image import ImageDataGenerator\n",
        "from keras.optimizers import SGD\n",
        "\n",
        "from keras.callbacks import TensorBoard\n",
        "from keras.callbacks import TerminateOnNaN\n",
        "from keras.callbacks import ModelCheckpoint\n",
        "from keras.callbacks import EarlyStopping\n",
        "from keras.callbacks import CSVLogger"
      ],
      "execution_count": 0,
      "outputs": []
    },
    {
      "metadata": {
        "id": "Hpx7l6dMCUt9",
        "colab_type": "code",
        "colab": {
          "autoexec": {
            "startup": false,
            "wait_interval": 0
          }
        }
      },
      "cell_type": "code",
      "source": [
        "train_data_dir = 'data/train'\n",
        "validation_data_dir = 'data/validation'\n",
        "test_data_dir = 'data/test'\n",
        "\n",
        "nb_train_samples = len(X_train)\n",
        "nb_validation_samples = len(X_valid)\n",
        "nb_test_samples = len(X_test)\n",
        "\n",
        "input_shape = (width, height, depth)"
      ],
      "execution_count": 0,
      "outputs": []
    },
    {
      "metadata": {
        "id": "qydI1QWuC2Jv",
        "colab_type": "code",
        "colab": {
          "autoexec": {
            "startup": false,
            "wait_interval": 0
          }
        }
      },
      "cell_type": "code",
      "source": [
        "epochs = 20\n",
        "batch_size = 16\n",
        "fc_size = 1024"
      ],
      "execution_count": 0,
      "outputs": []
    },
    {
      "metadata": {
        "id": "gbmZcPd5C-zc",
        "colab_type": "code",
        "colab": {
          "autoexec": {
            "startup": false,
            "wait_interval": 0
          }
        }
      },
      "cell_type": "code",
      "source": [
        "# Data Generators\n",
        "\n",
        "train_datagen = ImageDataGenerator(\n",
        "    rescale=1. / 255,\n",
        "    shear_range=0.2,\n",
        "    zoom_range=0.2,\n",
        "    horizontal_flip=True,\n",
        "    vertical_flip=True)\n",
        "\n",
        "test_datagen = ImageDataGenerator(rescale=1. / 255)"
      ],
      "execution_count": 0,
      "outputs": []
    },
    {
      "metadata": {
        "id": "fR-NxOEuDKvy",
        "colab_type": "code",
        "colab": {
          "autoexec": {
            "startup": false,
            "wait_interval": 0
          },
          "base_uri": "https://localhost:8080/",
          "height": 68
        },
        "outputId": "17ee7e19-350c-4620-bc36-10c77d4fd9ab",
        "executionInfo": {
          "elapsed": 952,
          "status": "ok",
          "timestamp": 1528088069952,
          "user": {
            "displayName": "sandeep gogadi",
            "photoUrl": "//lh5.googleusercontent.com/-yDUR7JNfkMw/AAAAAAAAAAI/AAAAAAAAB4g/-9hmp75Q72o/s50-c-k-no/photo.jpg",
            "userId": "118241933473178412715"
          },
          "user_tz": 420
        }
      },
      "cell_type": "code",
      "source": [
        "train_generator = train_datagen.flow_from_directory(\n",
        "    train_data_dir,\n",
        "    target_size=(height, width),\n",
        "    batch_size=batch_size)\n",
        "\n",
        "validation_generator = test_datagen.flow_from_directory(\n",
        "    validation_data_dir,\n",
        "    target_size=(height, width),\n",
        "    batch_size=batch_size)\n",
        "\n",
        "test_generator = test_datagen.flow_from_directory(\n",
        "    test_data_dir,\n",
        "    target_size=(height, width),\n",
        "    batch_size=batch_size)"
      ],
      "execution_count": 0,
      "outputs": [
        {
          "output_type": "stream",
          "text": [
            "Found 3420 images belonging to 12 classes.\n",
            "Found 380 images belonging to 12 classes.\n",
            "Found 950 images belonging to 12 classes.\n"
          ],
          "name": "stdout"
        }
      ]
    },
    {
      "metadata": {
        "id": "2kTOWugsbcRT",
        "colab_type": "code",
        "colab": {
          "autoexec": {
            "startup": false,
            "wait_interval": 0
          }
        }
      },
      "cell_type": "code",
      "source": [
        "# Warnings\n",
        "import os\n",
        "os.environ['TF_CPP_MIN_LOG_LEVEL'] = '3'\n",
        "\n",
        "import warnings\n",
        "with warnings.catch_warnings():\n",
        "    warnings.filterwarnings(\"ignore\",category=FutureWarning)\n",
        "    import numpy as np\n",
        "    import tensorflow as tf\n",
        "    import h5py as h5py\n",
        "    import keras"
      ],
      "execution_count": 0,
      "outputs": []
    },
    {
      "metadata": {
        "id": "i0WtXDArT928",
        "colab_type": "code",
        "colab": {
          "autoexec": {
            "startup": false,
            "wait_interval": 0
          },
          "base_uri": "https://localhost:8080/",
          "height": 139
        },
        "outputId": "98373542-35bc-4d74-c5c4-82a6ec159359"
      },
      "cell_type": "code",
      "source": [
        "%%time\n",
        "\n",
        "# setup model\n",
        "\n",
        "input_tensor = Input(shape=input_shape)\n",
        "\n",
        "base_model = InceptionV3(input_tensor=input_tensor, weights='imagenet', include_top=False) #include_top=False excludes final FC layer\n",
        "x = base_model.output\n",
        "x = GlobalAveragePooling2D()(x)\n",
        "x = Dense(fc_size, activation='relu')(x) #new FC layer, random init\n",
        "predictions = Dense(num_labels, activation='softmax')(x) #new softmax layer\n",
        "model = Model(input=base_model.input, output=predictions)\n",
        "\n",
        "# Callbacks\n",
        "\n",
        "# TerminateOnNaN\n",
        "terminate_callback = TerminateOnNaN()\n",
        "\n",
        "# Tensorboard\n",
        "tb_callback = TensorBoard('./Graph', histogram_freq=0, write_graph=True, write_images=True)\n",
        "\n",
        "# Model Checkppoint\n",
        "ckpt_callback = ModelCheckpoint('./weights.{epoch:02d}-{val_loss:.2f}.hdf5', verbose=1, save_weights_only=False, mode='auto', period=4)\n",
        "\n",
        "# Early Stopping\n",
        "stopping_callback = EarlyStopping(monitor='val_loss', patience=2, verbose=1, mode='auto')\n",
        "\n",
        "# CSV Logger\n",
        "csv_logger = CSVLogger('./training.log')\n",
        "\n",
        "# Callbacks list\n",
        "callbacks = [terminate_callback, tb_callback, ckpt_callback, csv_logger]\n",
        "\n",
        "# Transfer learn\n",
        "for layer in base_model.layers:\n",
        "    layer.trainable = False\n",
        "\n",
        "model.compile(optimizer='rmsprop', loss='categorical_crossentropy', metrics=['accuracy'])\n",
        "\n",
        "T_L = model.fit_generator(\n",
        "        train_generator,\n",
        "        nb_epoch=epochs,\n",
        "        samples_per_epoch=len(X_train),\n",
        "        validation_data=validation_generator,\n",
        "        nb_val_samples=len(X_valid),\n",
        "        class_weight='auto',\n",
        "        callbacks = callbacks)\n",
        "\n",
        "model.save('plant_seedlings_tl.h5')\n",
        "\n",
        "model = load_model('plant_seedlings_tl.h5')\n",
        "\n",
        "# Fine Tuning\n",
        "\n",
        "NB_IV3_LAYERS_TO_FREEZE = 172\n",
        "\n",
        "for layer in model.layers[:NB_IV3_LAYERS_TO_FREEZE]:\n",
        "    layer.trainable = False\n",
        "for layer in model.layers[NB_IV3_LAYERS_TO_FREEZE:]:\n",
        "    layer.trainable = True\n",
        "\n",
        "model.compile(optimizer=SGD(lr=0.0001, momentum=0.9), loss='categorical_crossentropy', metrics=['accuracy'])\n",
        "F_T = model.fit_generator(\n",
        "        train_generator,\n",
        "        samples_per_epoch=len(X_train),\n",
        "        nb_epoch=epochs,\n",
        "        validation_data=validation_generator,\n",
        "        nb_val_samples=len(X_valid),\n",
        "        class_weight='auto',\n",
        "        callbacks = callbacks)\n",
        "\n",
        "model.save('plant_seedlings_ft.h5')\n",
        "\n",
        "\n",
        "# https://deeplearningsandbox.com/how-to-use-transfer-learning-and-fine-tuning-in-keras-and-tensorflow-to-build-an-image-recognition-94b0b02444f2\n",
        "\n",
        "\n",
        "# View tensorboard\n",
        "#tensorboard --logdir ./Graph\n"
      ],
      "execution_count": 0,
      "outputs": [
        {
          "output_type": "stream",
          "text": [
            "/home/gogadi/anaconda3/envs/dl/lib/python3.6/site-packages/ipykernel_launcher.py:11: UserWarning: Update your `Model` call to the Keras 2 API: `Model(inputs=Tensor(\"in..., outputs=Tensor(\"de...)`\n",
            "  # This is added back by InteractiveShellApp.init_path()\n",
            "/home/gogadi/anaconda3/envs/dl/lib/python3.6/site-packages/ipykernel_launcher.py:46: UserWarning: The semantics of the Keras 2 argument `steps_per_epoch` is not the same as the Keras 1 argument `samples_per_epoch`. `steps_per_epoch` is the number of batches to draw from the generator at each epoch. Basically steps_per_epoch = samples_per_epoch/batch_size. Similarly `nb_val_samples`->`validation_steps` and `val_samples`->`steps` arguments have changed. Update your method calls accordingly.\n",
            "/home/gogadi/anaconda3/envs/dl/lib/python3.6/site-packages/ipykernel_launcher.py:46: UserWarning: Update your `fit_generator` call to the Keras 2 API: `fit_generator(<keras.pre..., validation_data=<keras.pre..., class_weight=\"auto\", callbacks=[<keras.ca..., steps_per_epoch=213, epochs=20, validation_steps=380)`\n"
          ],
          "name": "stderr"
        },
        {
          "output_type": "stream",
          "text": [
            "Epoch 1/20\n",
            "213/213 [==============================] - 164s 772ms/step - loss: 2.3813 - acc: 0.3498 - val_loss: 1.9371 - val_acc: 0.3238\n",
            "Epoch 2/20\n",
            "213/213 [==============================] - 165s 773ms/step - loss: 1.2881 - acc: 0.5488 - val_loss: 2.0310 - val_acc: 0.3761\n",
            "Epoch 3/20\n",
            "213/213 [==============================] - 165s 773ms/step - loss: 1.0798 - acc: 0.6345 - val_loss: 1.4843 - val_acc: 0.5282\n",
            "Epoch 4/20\n",
            "213/213 [==============================] - 164s 770ms/step - loss: 0.9813 - acc: 0.6618 - val_loss: 2.3819 - val_acc: 0.3771\n",
            "\n",
            "Epoch 00004: saving model to ./weights.04-2.38.hdf5\n",
            "Epoch 5/20\n",
            "213/213 [==============================] - 164s 769ms/step - loss: 0.8672 - acc: 0.7001 - val_loss: 2.0032 - val_acc: 0.4648\n",
            "Epoch 6/20\n",
            "213/213 [==============================] - 165s 774ms/step - loss: 0.8208 - acc: 0.7209 - val_loss: 3.2405 - val_acc: 0.2897\n",
            "Epoch 7/20\n",
            "213/213 [==============================] - 164s 769ms/step - loss: 0.8056 - acc: 0.7166 - val_loss: 2.4294 - val_acc: 0.4076\n",
            "Epoch 8/20\n",
            "213/213 [==============================] - 164s 769ms/step - loss: 0.7910 - acc: 0.7236 - val_loss: 2.1877 - val_acc: 0.4555\n",
            "\n",
            "Epoch 00008: saving model to ./weights.08-2.19.hdf5\n",
            "Epoch 9/20\n",
            "213/213 [==============================] - 164s 768ms/step - loss: 0.7516 - acc: 0.7434 - val_loss: 2.2472 - val_acc: 0.4367\n",
            "Epoch 10/20\n",
            "213/213 [==============================] - 164s 769ms/step - loss: 0.7442 - acc: 0.7442 - val_loss: 2.2655 - val_acc: 0.4751\n",
            "Epoch 11/20\n",
            "213/213 [==============================] - 163s 766ms/step - loss: 0.7157 - acc: 0.7681 - val_loss: 3.2128 - val_acc: 0.2965\n",
            "Epoch 12/20\n",
            "213/213 [==============================] - 163s 766ms/step - loss: 0.6986 - acc: 0.7518 - val_loss: 2.2388 - val_acc: 0.4631\n",
            "\n",
            "Epoch 00012: saving model to ./weights.12-2.24.hdf5\n",
            "Epoch 13/20\n",
            "213/213 [==============================] - 163s 766ms/step - loss: 0.6819 - acc: 0.7575 - val_loss: 2.3353 - val_acc: 0.4814\n",
            "Epoch 14/20\n",
            "213/213 [==============================] - 163s 765ms/step - loss: 0.6569 - acc: 0.7761 - val_loss: 1.8858 - val_acc: 0.5445\n",
            "Epoch 15/20\n",
            "213/213 [==============================] - 163s 764ms/step - loss: 0.6564 - acc: 0.7746 - val_loss: 2.9377 - val_acc: 0.4018\n",
            "Epoch 16/20\n",
            "213/213 [==============================] - 163s 765ms/step - loss: 0.6258 - acc: 0.7814 - val_loss: 2.4187 - val_acc: 0.4522\n",
            "\n",
            "Epoch 00016: saving model to ./weights.16-2.42.hdf5\n",
            "Epoch 17/20\n",
            "213/213 [==============================] - 163s 766ms/step - loss: 0.6403 - acc: 0.7800 - val_loss: 3.0225 - val_acc: 0.4317\n",
            "Epoch 18/20\n",
            "213/213 [==============================] - 163s 764ms/step - loss: 0.6515 - acc: 0.7767 - val_loss: 2.3266 - val_acc: 0.5020\n",
            "Epoch 19/20\n",
            "213/213 [==============================] - 163s 763ms/step - loss: 0.6248 - acc: 0.7966 - val_loss: 2.4523 - val_acc: 0.5071\n",
            "Epoch 20/20\n",
            "213/213 [==============================] - 163s 765ms/step - loss: 0.6230 - acc: 0.7842 - val_loss: 3.2023 - val_acc: 0.3676\n",
            "\n",
            "Epoch 00020: saving model to ./weights.20-3.20.hdf5\n"
          ],
          "name": "stdout"
        },
        {
          "output_type": "stream",
          "text": [
            "/home/gogadi/anaconda3/envs/dl/lib/python3.6/site-packages/ipykernel_launcher.py:69: UserWarning: The semantics of the Keras 2 argument `steps_per_epoch` is not the same as the Keras 1 argument `samples_per_epoch`. `steps_per_epoch` is the number of batches to draw from the generator at each epoch. Basically steps_per_epoch = samples_per_epoch/batch_size. Similarly `nb_val_samples`->`validation_steps` and `val_samples`->`steps` arguments have changed. Update your method calls accordingly.\n",
            "/home/gogadi/anaconda3/envs/dl/lib/python3.6/site-packages/ipykernel_launcher.py:69: UserWarning: Update your `fit_generator` call to the Keras 2 API: `fit_generator(<keras.pre..., validation_data=<keras.pre..., class_weight=\"auto\", callbacks=[<keras.ca..., steps_per_epoch=213, epochs=20, validation_steps=380)`\n"
          ],
          "name": "stderr"
        },
        {
          "output_type": "stream",
          "text": [
            "Epoch 1/20\n",
            "213/213 [==============================] - 176s 827ms/step - loss: 0.4470 - acc: 0.8442 - val_loss: 1.3342 - val_acc: 0.5817\n",
            "Epoch 2/20\n",
            "213/213 [==============================] - 174s 816ms/step - loss: 0.3409 - acc: 0.8835 - val_loss: 1.1967 - val_acc: 0.6296\n",
            "Epoch 3/20\n",
            "213/213 [==============================] - 174s 815ms/step - loss: 0.3184 - acc: 0.8900 - val_loss: 1.1794 - val_acc: 0.6470\n",
            "Epoch 4/20\n",
            "213/213 [==============================] - 174s 815ms/step - loss: 0.2591 - acc: 0.9082 - val_loss: 1.1059 - val_acc: 0.6713\n",
            "\n",
            "Epoch 00004: saving model to ./weights.04-1.11.hdf5\n",
            "Epoch 5/20\n",
            "213/213 [==============================] - 173s 811ms/step - loss: 0.2356 - acc: 0.9114 - val_loss: 1.0327 - val_acc: 0.6887\n",
            "Epoch 6/20\n",
            "213/213 [==============================] - 173s 814ms/step - loss: 0.2206 - acc: 0.9227 - val_loss: 1.0046 - val_acc: 0.6877\n",
            "Epoch 7/20\n",
            "213/213 [==============================] - 174s 815ms/step - loss: 0.2081 - acc: 0.9219 - val_loss: 0.9237 - val_acc: 0.7214\n",
            "Epoch 8/20\n",
            "213/213 [==============================] - 174s 815ms/step - loss: 0.1955 - acc: 0.9277 - val_loss: 0.9104 - val_acc: 0.6982\n",
            "\n",
            "Epoch 00008: saving model to ./weights.08-0.91.hdf5\n",
            "Epoch 9/20\n",
            "213/213 [==============================] - 174s 816ms/step - loss: 0.1872 - acc: 0.9372 - val_loss: 0.8480 - val_acc: 0.7422\n",
            "Epoch 10/20\n",
            "213/213 [==============================] - 174s 816ms/step - loss: 0.1932 - acc: 0.9299 - val_loss: 0.8472 - val_acc: 0.7344\n",
            "Epoch 11/20\n",
            "213/213 [==============================] - 174s 815ms/step - loss: 0.1665 - acc: 0.9360 - val_loss: 0.8366 - val_acc: 0.7234\n",
            "Epoch 12/20\n",
            "213/213 [==============================] - 174s 815ms/step - loss: 0.1480 - acc: 0.9472 - val_loss: 0.8186 - val_acc: 0.7344\n",
            "\n",
            "Epoch 00012: saving model to ./weights.12-0.82.hdf5\n",
            "Epoch 13/20\n",
            "213/213 [==============================] - 174s 816ms/step - loss: 0.1561 - acc: 0.9484 - val_loss: 0.8184 - val_acc: 0.7257\n",
            "Epoch 14/20\n",
            "213/213 [==============================] - 174s 815ms/step - loss: 0.1400 - acc: 0.9533 - val_loss: 0.7848 - val_acc: 0.7445\n",
            "Epoch 15/20\n",
            "213/213 [==============================] - 173s 814ms/step - loss: 0.1305 - acc: 0.9565 - val_loss: 0.7811 - val_acc: 0.7522\n",
            "Epoch 16/20\n",
            "213/213 [==============================] - 173s 814ms/step - loss: 0.1301 - acc: 0.9520 - val_loss: 0.7726 - val_acc: 0.7575\n",
            "\n",
            "Epoch 00016: saving model to ./weights.16-0.77.hdf5\n",
            "Epoch 17/20\n",
            "213/213 [==============================] - 174s 815ms/step - loss: 0.1222 - acc: 0.9574 - val_loss: 0.7501 - val_acc: 0.7630\n",
            "Epoch 18/20\n",
            "213/213 [==============================] - 174s 815ms/step - loss: 0.1315 - acc: 0.9515 - val_loss: 0.8055 - val_acc: 0.7422\n",
            "Epoch 19/20\n",
            "213/213 [==============================] - 174s 816ms/step - loss: 0.1189 - acc: 0.9536 - val_loss: 0.7678 - val_acc: 0.7638\n",
            "Epoch 20/20\n",
            "213/213 [==============================] - 174s 816ms/step - loss: 0.1086 - acc: 0.9624 - val_loss: 0.7942 - val_acc: 0.7449\n",
            "\n",
            "Epoch 00020: saving model to ./weights.20-0.79.hdf5\n",
            "CPU times: user 2h 24min 46s, sys: 17min 55s, total: 2h 42min 41s\n",
            "Wall time: 1h 54min 28s\n"
          ],
          "name": "stdout"
        }
      ]
    },
    {
      "metadata": {
        "id": "mDwKbL4KYrgQ",
        "colab_type": "code",
        "colab": {
          "autoexec": {
            "startup": false,
            "wait_interval": 0
          }
        }
      },
      "cell_type": "code",
      "source": [
        "model = load_model('plant_seedlings_ft.h5')\n",
        "\n",
        "Eval = model.evaluate_generator(test_generator)\n"
      ],
      "execution_count": 0,
      "outputs": []
    },
    {
      "metadata": {
        "id": "TLjpdC38YrjB",
        "colab_type": "code",
        "colab": {
          "autoexec": {
            "startup": false,
            "wait_interval": 0
          }
        },
        "outputId": "8f4bd03e-2917-4947-f4ba-0c8ed4db5a68"
      },
      "cell_type": "code",
      "source": [
        "Eval"
      ],
      "execution_count": 0,
      "outputs": [
        {
          "output_type": "execute_result",
          "data": {
            "text/plain": [
              "[0.7661930168302435, 0.7578947367166218]"
            ]
          },
          "metadata": {
            "tags": []
          },
          "execution_count": 72
        }
      ]
    },
    {
      "metadata": {
        "id": "oCPLCGqjZdWv",
        "colab_type": "code",
        "colab": {
          "autoexec": {
            "startup": false,
            "wait_interval": 0
          }
        }
      },
      "cell_type": "code",
      "source": [
        ""
      ],
      "execution_count": 0,
      "outputs": []
    },
    {
      "metadata": {
        "id": "HOd3RzEteLbO",
        "colab_type": "code",
        "colab": {
          "autoexec": {
            "startup": false,
            "wait_interval": 0
          },
          "base_uri": "https://localhost:8080/",
          "height": 34
        },
        "outputId": "973e6596-7a2f-45e6-c54e-f6f3dd5fe8d2",
        "executionInfo": {
          "elapsed": 1352,
          "status": "ok",
          "timestamp": 1528084881603,
          "user": {
            "displayName": "sandeep gogadi",
            "photoUrl": "//lh5.googleusercontent.com/-yDUR7JNfkMw/AAAAAAAAAAI/AAAAAAAAB4g/-9hmp75Q72o/s50-c-k-no/photo.jpg",
            "userId": "118241933473178412715"
          },
          "user_tz": 420
        }
      },
      "cell_type": "code",
      "source": [
        "ls"
      ],
      "execution_count": 0,
      "outputs": [
        {
          "output_type": "stream",
          "text": [
            "\u001b[0m\u001b[01;34manaconda3\u001b[0m/    \u001b[01;34mcuda-setup\u001b[0m/        Plant_Seedlings_Intel.ipynb\r\n",
            "\u001b[01;34mCudaSamples\u001b[0m/  \u001b[01;34mcudnn_samples_v7\u001b[0m/\r\n"
          ],
          "name": "stdout"
        }
      ]
    },
    {
      "metadata": {
        "id": "QfCAinmiZdW3",
        "colab_type": "code",
        "colab": {
          "autoexec": {
            "startup": false,
            "wait_interval": 0
          }
        }
      },
      "cell_type": "code",
      "source": [
        ""
      ],
      "execution_count": 0,
      "outputs": []
    },
    {
      "metadata": {
        "id": "T4OXQ4DDZdW5",
        "colab_type": "code",
        "colab": {
          "autoexec": {
            "startup": false,
            "wait_interval": 0
          }
        }
      },
      "cell_type": "code",
      "source": [
        ""
      ],
      "execution_count": 0,
      "outputs": []
    },
    {
      "metadata": {
        "id": "PcUUnCIYZdW8",
        "colab_type": "code",
        "colab": {
          "autoexec": {
            "startup": false,
            "wait_interval": 0
          }
        }
      },
      "cell_type": "code",
      "source": [
        ""
      ],
      "execution_count": 0,
      "outputs": []
    },
    {
      "metadata": {
        "id": "-w3UEU-FZdW-",
        "colab_type": "code",
        "colab": {
          "autoexec": {
            "startup": false,
            "wait_interval": 0
          }
        }
      },
      "cell_type": "code",
      "source": [
        ""
      ],
      "execution_count": 0,
      "outputs": []
    },
    {
      "metadata": {
        "id": "JnLrMPOQYrsR",
        "colab_type": "code",
        "colab": {
          "autoexec": {
            "startup": false,
            "wait_interval": 0
          }
        }
      },
      "cell_type": "code",
      "source": [
        "ls"
      ],
      "execution_count": 0,
      "outputs": []
    },
    {
      "metadata": {
        "id": "Co9nqczAE369",
        "colab_type": "code",
        "colab": {
          "autoexec": {
            "startup": false,
            "wait_interval": 0
          }
        }
      },
      "cell_type": "code",
      "source": [
        "!rm -rf data/\n",
        "!rm -rf Graph/\n",
        "!rm -rf ngrok\n",
        "!rm ngrok-stable-linux-amd64.zip"
      ],
      "execution_count": 0,
      "outputs": []
    },
    {
      "metadata": {
        "id": "omGYY-0nE6jG",
        "colab_type": "code",
        "colab": {
          "autoexec": {
            "startup": false,
            "wait_interval": 0
          }
        }
      },
      "cell_type": "code",
      "source": [
        "ls"
      ],
      "execution_count": 0,
      "outputs": []
    },
    {
      "metadata": {
        "id": "L33PW9DmYqkg",
        "colab_type": "code",
        "colab": {
          "autoexec": {
            "startup": false,
            "wait_interval": 0
          }
        }
      },
      "cell_type": "code",
      "source": [
        "!rm plant_seedlings_tl.h5\n",
        "!rm weights.04-3.17.hdf5"
      ],
      "execution_count": 0,
      "outputs": []
    },
    {
      "metadata": {
        "id": "1329vbXuIkgH",
        "colab_type": "code",
        "colab": {
          "autoexec": {
            "startup": false,
            "wait_interval": 0
          }
        }
      },
      "cell_type": "code",
      "source": [
        "ls"
      ],
      "execution_count": 0,
      "outputs": []
    },
    {
      "metadata": {
        "id": "xZy-c_reIlP0",
        "colab_type": "code",
        "colab": {
          "autoexec": {
            "startup": false,
            "wait_interval": 0
          }
        }
      },
      "cell_type": "code",
      "source": [
        ""
      ],
      "execution_count": 0,
      "outputs": []
    }
  ]
}